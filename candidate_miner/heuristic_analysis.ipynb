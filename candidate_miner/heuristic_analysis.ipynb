{
 "cells": [
  {
   "cell_type": "markdown",
   "metadata": {},
   "source": [
    "# Heuristic Candidate Mining - 페이지 필터링\n",
    "\n",
    "메트릭별로 관련 키워드가 있는 페이지만 추출하여 주석 작업 범위를 줄입니다."
   ]
  },
  {
   "cell_type": "markdown",
   "metadata": {},
   "source": [
    "## 설정 및 임포트"
   ]
  },
  {
   "cell_type": "code",
   "execution_count": 1,
   "metadata": {},
   "outputs": [
    {
     "name": "stdout",
     "output_type": "stream",
     "text": [
      "✅ 프로젝트: hyundai_2024\n",
      "   메트릭 파일: True\n",
      "   페이지 파일: True\n"
     ]
    }
   ],
   "source": [
    "import json\n",
    "import sys\n",
    "from pathlib import Path\n",
    "\n",
    "# ========================================\n",
    "# 프로젝트 경로 설정 (여기만 수정하세요!)\n",
    "# ========================================\n",
    "# PROJECT_DIR = Path('../projects/samsung_2024') \n",
    "# PROJECT_DIR = Path('../projects/sk_hynix_2024')  \n",
    "PROJECT_DIR = Path('../projects/hyundai_2024')  \n",
    "\n",
    "# 파일 경로\n",
    "METRIC_FILE = PROJECT_DIR / 'metric_sid_map.json'\n",
    "PAGES_FILE = PROJECT_DIR / 'pages' / 'metadata.json'\n",
    "OUTPUT_FILE = PROJECT_DIR / 'metric_page_mapping.json'\n",
    "\n",
    "print(f\"✅ 프로젝트: {PROJECT_DIR.name}\")\n",
    "print(f\"   메트릭 파일: {METRIC_FILE.exists()}\")\n",
    "print(f\"   페이지 파일: {PAGES_FILE.exists()}\")"
   ]
  },
  {
   "cell_type": "markdown",
   "metadata": {},
   "source": [
    "## 데이터 로드"
   ]
  },
  {
   "cell_type": "code",
   "execution_count": 2,
   "metadata": {},
   "outputs": [
    {
     "name": "stdout",
     "output_type": "stream",
     "text": [
      "✅ 메트릭: 12개\n",
      "✅ 페이지: 125개 (페이지 1 ~ 125)\n",
      "✅ 키워드 매핑: 12개 메트릭\n",
      "\n",
      "메트릭 목록:\n",
      "  TR-AU-250a.1: Product Safety\n",
      "  TR-AU-250a.2: Product Safety\n",
      "  TR-AU-250a.3: Product Safety\n",
      "  TR-AU-310a.1: Labour Practices\n",
      "  TR-AU-310a.2: Labour Practices\n",
      "  TR-AU-410a.1: Fuel Economy & Use-phase Emissions\n",
      "  TR-AU-410a.2: Fuel Economy & Use-phase Emissions\n",
      "  TR-AU-410a.3: Fuel Economy & Use-phase Emissions\n",
      "  TR-AU-440a.1: Materials Sourcing\n",
      "  TR-AU-440b.1: Materials Efficiency & Recycling\n",
      "  TR-AU-440b.2: Materials Efficiency & Recycling\n",
      "  TR-AU-440b.3: Materials Efficiency & Recycling\n"
     ]
    }
   ],
   "source": [
    "# 메트릭 정의 로드\n",
    "with open(METRIC_FILE, 'r', encoding='utf-8') as f:\n",
    "    metrics = json.load(f)\n",
    "\n",
    "# 페이지 메타데이터 로드\n",
    "with open(PAGES_FILE, 'r', encoding='utf-8') as f:\n",
    "    pages = json.load(f)\n",
    "\n",
    "# 키워드 매핑 로드\n",
    "sys.path.insert(0, str(PROJECT_DIR))\n",
    "import importlib\n",
    "if 'metric_keywords' in sys.modules:\n",
    "    import metric_keywords\n",
    "    importlib.reload(metric_keywords)\n",
    "from metric_keywords import METRIC_KEYWORDS\n",
    "\n",
    "print(f\"✅ 메트릭: {len(metrics)}개\")\n",
    "print(f\"✅ 페이지: {len(pages)}개 (페이지 {pages[0]['page']} ~ {pages[-1]['page']})\")\n",
    "print(f\"✅ 키워드 매핑: {len(METRIC_KEYWORDS)}개 메트릭\")\n",
    "print(f\"\\n메트릭 목록:\")\n",
    "for metric_id, info in metrics.items():\n",
    "    print(f\"  {metric_id}: {info['topic']}\")"
   ]
  },
  {
   "cell_type": "code",
   "execution_count": 3,
   "metadata": {},
   "outputs": [
    {
     "name": "stdout",
     "output_type": "stream",
     "text": [
      "✅ TR-AU-250a.1 (Product Safety): 65개 페이지\n",
      "   페이지: [4, 5, 6, 7, 11, 15, 16, 17, 19, 20] ... (총 65개)\n",
      "✅ TR-AU-250a.2 (Product Safety): 62개 페이지\n",
      "   페이지: [3, 4, 5, 7, 9, 11, 12, 16, 20, 23] ... (총 62개)\n",
      "✅ TR-AU-250a.3 (Product Safety): 28개 페이지\n",
      "   페이지: [16, 17, 23, 28, 30, 36, 37, 39, 40, 41] ... (총 28개)\n",
      "✅ TR-AU-310a.1 (Labour Practices): 30개 페이지\n",
      "   페이지: [12, 13, 14, 16, 50, 51, 52, 53, 55, 57] ... (총 30개)\n",
      "✅ TR-AU-310a.2 (Labour Practices): 9개 페이지\n",
      "   페이지: [10, 22, 35, 60, 102, 105, 111, 114, 116]\n",
      "✅ TR-AU-410a.1 (Fuel Economy & Use-phase Emissions): 73개 페이지\n",
      "   페이지: [2, 3, 8, 9, 10, 11, 12, 13, 15, 16] ... (총 73개)\n",
      "✅ TR-AU-410a.2 (Fuel Economy & Use-phase Emissions): 65개 페이지\n",
      "   페이지: [3, 5, 6, 7, 9, 10, 11, 12, 13, 15] ... (총 65개)\n",
      "✅ TR-AU-410a.3 (Fuel Economy & Use-phase Emissions): 88개 페이지\n",
      "   페이지: [2, 4, 9, 11, 12, 13, 14, 15, 16, 17] ... (총 88개)\n",
      "✅ TR-AU-440a.1 (Materials Sourcing): 69개 페이지\n",
      "   페이지: [2, 3, 7, 8, 9, 10, 11, 12, 13, 14] ... (총 69개)\n",
      "✅ TR-AU-440b.1 (Materials Efficiency & Recycling): 124개 페이지\n",
      "   페이지: [1, 2, 3, 4, 5, 6, 7, 8, 9, 10] ... (총 124개)\n",
      "✅ TR-AU-440b.2 (Materials Efficiency & Recycling): 124개 페이지\n",
      "   페이지: [1, 2, 3, 4, 5, 6, 7, 8, 9, 10] ... (총 124개)\n",
      "✅ TR-AU-440b.3 (Materials Efficiency & Recycling): 75개 페이지\n",
      "   페이지: [3, 6, 7, 8, 9, 10, 11, 14, 15, 17] ... (총 75개)\n",
      "\n",
      "============================================================\n",
      "✅ 페이지 필터링 완료!\n",
      "============================================================\n"
     ]
    }
   ],
   "source": [
    "# 메트릭별 관련 페이지 추출\n",
    "metric_page_mapping = {}\n",
    "\n",
    "for metric_id, keywords in METRIC_KEYWORDS.items():\n",
    "    related_pages = []\n",
    "    \n",
    "    for page_data in pages:\n",
    "        page_num = page_data['page']\n",
    "        page_text = page_data.get('text', '').lower()\n",
    "        \n",
    "        # 키워드 검색 (대소문자 구분 없음)\n",
    "        for keyword in keywords:\n",
    "            if keyword.lower() in page_text:\n",
    "                related_pages.append(page_num)\n",
    "                break  # 하나라도 발견되면 다음 페이지로\n",
    "    \n",
    "    metric_page_mapping[metric_id] = sorted(set(related_pages))\n",
    "    \n",
    "    # 메트릭별 결과 출력\n",
    "    metric_info = metrics.get(metric_id, {})\n",
    "    topic = metric_info.get('topic', metric_id)\n",
    "    print(f\"✅ {metric_id} ({topic}): {len(related_pages)}개 페이지\")\n",
    "    if related_pages:\n",
    "        # 처음 10개만 표시\n",
    "        preview = related_pages[:10]\n",
    "        if len(related_pages) > 10:\n",
    "            print(f\"   페이지: {preview} ... (총 {len(related_pages)}개)\")\n",
    "        else:\n",
    "            print(f\"   페이지: {related_pages}\")\n",
    "    else:\n",
    "        print(f\"   ⚠️  관련 페이지를 찾지 못했습니다.\")\n",
    "\n",
    "print(f\"\\n{'='*60}\")\n",
    "print(f\"✅ 페이지 필터링 완료!\")\n",
    "print(f\"{'='*60}\")"
   ]
  },
  {
   "cell_type": "markdown",
   "metadata": {},
   "source": [
    "## 페이지 필터링 실행"
   ]
  },
  {
   "cell_type": "markdown",
   "metadata": {},
   "source": [
    "## 5. 메트릭별 관련 페이지 추출"
   ]
  },
  {
   "cell_type": "markdown",
   "metadata": {},
   "source": [
    "## 6. 결과 요약"
   ]
  },
  {
   "cell_type": "markdown",
   "metadata": {},
   "source": [
    "## 7. JSON 파일로 저장"
   ]
  },
  {
   "cell_type": "markdown",
   "metadata": {},
   "source": [
    "## 8. UI에서 사용할 수 있는 형태로 출력"
   ]
  },
  {
   "cell_type": "code",
   "execution_count": null,
   "metadata": {},
   "outputs": [],
   "source": [
    "## 통계 및 저장"
   ]
  },
  {
   "cell_type": "code",
   "execution_count": 4,
   "metadata": {},
   "outputs": [
    {
     "name": "stdout",
     "output_type": "stream",
     "text": [
      "\n",
      "📊 결과 요약\n",
      "============================================================\n",
      "전체 페이지: 125개\n",
      "관련 페이지: 124개\n",
      "제외 페이지: 1개\n",
      "작업 효율: 99.2%\n",
      "\n",
      "✅ 저장 완료: ../projects/hyundai_2024/metric_page_mapping.json\n",
      "============================================================\n"
     ]
    }
   ],
   "source": [
    "# 통계 계산\n",
    "total_pages = len(pages)\n",
    "all_related_pages = set()\n",
    "for pages_list in metric_page_mapping.values():\n",
    "    all_related_pages.update(pages_list)\n",
    "\n",
    "excluded_pages = sorted(set(range(1, total_pages + 1)) - all_related_pages)\n",
    "\n",
    "# 결과 저장\n",
    "output_data = {\n",
    "    \"metric_page_mapping\": metric_page_mapping,\n",
    "    \"summary\": {\n",
    "        \"total_pages\": total_pages,\n",
    "        \"related_pages\": len(all_related_pages),\n",
    "        \"excluded_pages\": len(excluded_pages),\n",
    "        \"efficiency\": f\"{len(all_related_pages)/total_pages*100:.1f}%\"\n",
    "    }\n",
    "}\n",
    "\n",
    "with open(OUTPUT_FILE, 'w', encoding='utf-8') as f:\n",
    "    json.dump(output_data, f, indent=2, ensure_ascii=False)\n",
    "\n",
    "# 결과 출력\n",
    "print(\"\\n📊 결과 요약\")\n",
    "print(\"=\"*60)\n",
    "print(f\"전체 페이지: {total_pages}개\")\n",
    "print(f\"관련 페이지: {len(all_related_pages)}개\")\n",
    "print(f\"제외 페이지: {len(excluded_pages)}개\")\n",
    "print(f\"작업 효율: {len(all_related_pages)/total_pages*100:.1f}%\")\n",
    "print(f\"\\n✅ 저장 완료: {OUTPUT_FILE}\")\n",
    "print(\"=\"*60)"
   ]
  }
 ],
 "metadata": {
  "kernelspec": {
   "display_name": "Python 3",
   "language": "python",
   "name": "python3"
  },
  "language_info": {
   "codemirror_mode": {
    "name": "ipython",
    "version": 3
   },
   "file_extension": ".py",
   "mimetype": "text/x-python",
   "name": "python",
   "nbconvert_exporter": "python",
   "pygments_lexer": "ipython3",
   "version": "3.9.6"
  }
 },
 "nbformat": 4,
 "nbformat_minor": 4
}
