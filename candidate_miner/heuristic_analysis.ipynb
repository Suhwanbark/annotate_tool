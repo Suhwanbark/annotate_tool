{
 "cells": [
  {
   "cell_type": "markdown",
   "metadata": {},
   "source": "# Heuristic Candidate Mining - 페이지 필터링\n\n메트릭별로 관련 키워드가 있는 페이지만 추출하여 주석 작업 범위를 줄입니다."
  },
  {
   "cell_type": "markdown",
   "metadata": {},
   "source": "## 설정 및 임포트"
  },
  {
   "cell_type": "code",
   "execution_count": null,
   "metadata": {},
   "outputs": [],
   "source": "import json\nimport sys\nfrom pathlib import Path\n\n# ========================================\n# 프로젝트 경로 설정 (여기만 수정하세요!)\n# ========================================\nPROJECT_DIR = Path('../projects/sk_hynix_2024')  # 또는 '../projects/samsung_2024'\n\n# 파일 경로\nMETRIC_FILE = PROJECT_DIR / 'metric_sid_map.json'\nPAGES_FILE = PROJECT_DIR / 'pages' / 'metadata.json'\nOUTPUT_FILE = PROJECT_DIR / 'metric_page_mapping.json'\n\nprint(f\"✅ 프로젝트: {PROJECT_DIR.name}\")\nprint(f\"   메트릭 파일: {METRIC_FILE.exists()}\")\nprint(f\"   페이지 파일: {PAGES_FILE.exists()}\")"
  },
  {
   "cell_type": "markdown",
   "metadata": {},
   "source": "## 데이터 로드"
  },
  {
   "cell_type": "code",
   "execution_count": null,
   "metadata": {},
   "outputs": [],
   "source": "# 메트릭 정의 로드\nwith open(METRIC_FILE, 'r', encoding='utf-8') as f:\n    metrics = json.load(f)\n\n# 페이지 메타데이터 로드\nwith open(PAGES_FILE, 'r', encoding='utf-8') as f:\n    pages = json.load(f)\n\n# 키워드 매핑 로드\nsys.path.insert(0, str(PROJECT_DIR))\nimport importlib\nif 'metric_keywords' in sys.modules:\n    import metric_keywords\n    importlib.reload(metric_keywords)\nfrom metric_keywords import METRIC_KEYWORDS\n\nprint(f\"✅ 메트릭: {len(metrics)}개\")\nprint(f\"✅ 페이지: {len(pages)}개 (페이지 {pages[0]['page']} ~ {pages[-1]['page']})\")\nprint(f\"✅ 키워드 매핑: {len(METRIC_KEYWORDS)}개 메트릭\")\nprint(f\"\\n메트릭 목록:\")\nfor metric_id, info in metrics.items():\n    print(f\"  {metric_id}: {info['topic']}\")"
  },
  {
   "cell_type": "code",
   "execution_count": null,
   "metadata": {},
   "outputs": [],
   "source": "## 페이지 필터링 실행"
  },
  {
   "cell_type": "markdown",
   "metadata": {},
   "source": "## 페이지 필터링 실행"
  },
  {
   "cell_type": "markdown",
   "metadata": {},
   "source": [
    "## 5. 메트릭별 관련 페이지 추출"
   ]
  },
  {
   "cell_type": "markdown",
   "metadata": {},
   "source": [
    "## 6. 결과 요약"
   ]
  },
  {
   "cell_type": "markdown",
   "metadata": {},
   "source": [
    "## 7. JSON 파일로 저장"
   ]
  },
  {
   "cell_type": "markdown",
   "metadata": {},
   "source": [
    "## 8. UI에서 사용할 수 있는 형태로 출력"
   ]
  },
  {
   "cell_type": "code",
   "execution_count": null,
   "metadata": {},
   "outputs": [],
   "source": "## 통계 및 저장"
  },
  {
   "cell_type": "code",
   "source": "# 통계 계산\ntotal_pages = len(pages)\nall_related_pages = set()\nfor pages_list in metric_page_mapping.values():\n    all_related_pages.update(pages_list)\n\nexcluded_pages = sorted(set(range(1, total_pages + 1)) - all_related_pages)\n\n# 결과 저장\noutput_data = {\n    \"metric_page_mapping\": metric_page_mapping,\n    \"summary\": {\n        \"total_pages\": total_pages,\n        \"related_pages\": len(all_related_pages),\n        \"excluded_pages\": len(excluded_pages),\n        \"efficiency\": f\"{len(all_related_pages)/total_pages*100:.1f}%\"\n    }\n}\n\nwith open(OUTPUT_FILE, 'w', encoding='utf-8') as f:\n    json.dump(output_data, f, indent=2, ensure_ascii=False)\n\n# 결과 출력\nprint(\"\\n📊 결과 요약\")\nprint(\"=\"*60)\nprint(f\"전체 페이지: {total_pages}개\")\nprint(f\"관련 페이지: {len(all_related_pages)}개\")\nprint(f\"제외 페이지: {len(excluded_pages)}개\")\nprint(f\"작업 효율: {len(all_related_pages)/total_pages*100:.1f}%\")\nprint(f\"\\n✅ 저장 완료: {OUTPUT_FILE}\")\nprint(\"=\"*60)",
   "metadata": {},
   "execution_count": null,
   "outputs": []
  }
 ],
 "metadata": {
  "kernelspec": {
   "display_name": "Python 3",
   "language": "python",
   "name": "python3"
  },
  "language_info": {
   "codemirror_mode": {
    "name": "ipython",
    "version": 3
   },
   "file_extension": ".py",
   "mimetype": "text/x-python",
   "name": "python",
   "nbconvert_exporter": "python",
   "pygments_lexer": "ipython3",
   "version": "3.9.6"
  }
 },
 "nbformat": 4,
 "nbformat_minor": 4
}